{
 "cells": [
  {
   "cell_type": "code",
   "execution_count": 2,
   "id": "69d241ed",
   "metadata": {},
   "outputs": [],
   "source": [
    "import numpy as np \n",
    "import pandas as pd \n",
    "import pandas as pd\n",
    "from sklearn.preprocessing import OrdinalEncoder\n",
    "from sklearn.model_selection import train_test_split\n",
    "from sklearn.ensemble import RandomForestClassifier\n",
    "from sklearn.metrics import f1_score, classification_report\n"
   ]
  },
  {
   "cell_type": "code",
   "execution_count": 3,
   "id": "d49d958c",
   "metadata": {},
   "outputs": [],
   "source": [
    "df_train = pd.read_csv('../data/processed/train.csv')\n",
    "df_test = pd.read_csv('../data/processed/test.csv')\n"
   ]
  },
  {
   "cell_type": "code",
   "execution_count": 4,
   "id": "c6e32595",
   "metadata": {},
   "outputs": [],
   "source": [
    "\n",
    "\n",
    "# List of categorical columns to encode\n",
    "categorical_cols = [\n",
    "    'land_surface_condition', 'foundation_type', 'roof_type',\n",
    "    'ground_floor_type', 'other_floor_type', 'position',\n",
    "    'plan_configuration', 'legal_ownership_status'\n",
    "]\n"
   ]
  },
  {
   "cell_type": "code",
   "execution_count": 5,
   "id": "3e78e5ec",
   "metadata": {},
   "outputs": [],
   "source": [
    "# Initialize OrdinalEncoder with unknown category handling\n",
    "ord_enc = OrdinalEncoder(handle_unknown='use_encoded_value', unknown_value=-1)\n",
    "\n",
    "# Fit encoder on train categorical columns and transform both train and test\n",
    "df_train[categorical_cols] = ord_enc.fit_transform(df_train[categorical_cols])\n",
    "df_test[categorical_cols] = ord_enc.transform(df_test[categorical_cols])\n"
   ]
  },
  {
   "cell_type": "code",
   "execution_count": 6,
   "id": "f55372aa",
   "metadata": {},
   "outputs": [],
   "source": [
    "\n",
    "# Prepare train features and target (drop extra columns)\n",
    "X_train = df_train.drop(columns=['damage_grade', 'superstructure_sum', 'secondary_use_sum', 'building_id'])\n",
    "y_train = df_train['damage_grade']"
   ]
  },
  {
   "cell_type": "code",
   "execution_count": 7,
   "id": "5c77f56f",
   "metadata": {},
   "outputs": [],
   "source": [
    "# Prepare test features (drop building_id)\n",
    "test_ids = df_test['building_id']\n",
    "X_test = df_test.drop(columns=['building_id'])\n",
    "\n",
    "# Align train and test features columns\n",
    "common_cols = X_train.columns.intersection(X_test.columns)\n",
    "X_train = X_train[common_cols]\n",
    "X_test = X_test[common_cols]\n",
    "\n",
    "# Split train into train/validation sets for evaluation\n",
    "X_tr, X_val, y_tr, y_val = train_test_split(\n",
    "    X_train, y_train, test_size=0.2, random_state=42, stratify=y_train\n",
    ")"
   ]
  },
  {
   "cell_type": "code",
   "execution_count": null,
   "id": "92760a9c",
   "metadata": {},
   "outputs": [],
   "source": []
  },
  {
   "cell_type": "code",
   "execution_count": 1,
   "id": "6bb52a52",
   "metadata": {},
   "outputs": [],
   "source": [
    "# hah"
   ]
  },
  {
   "cell_type": "code",
   "execution_count": null,
   "id": "e4e14e5c",
   "metadata": {},
   "outputs": [],
   "source": []
  }
 ],
 "metadata": {
  "kernelspec": {
   "display_name": "base",
   "language": "python",
   "name": "python3"
  },
  "language_info": {
   "codemirror_mode": {
    "name": "ipython",
    "version": 3
   },
   "file_extension": ".py",
   "mimetype": "text/x-python",
   "name": "python",
   "nbconvert_exporter": "python",
   "pygments_lexer": "ipython3",
   "version": "3.12.7"
  }
 },
 "nbformat": 4,
 "nbformat_minor": 5
}
