{
 "cells": [
  {
   "cell_type": "code",
   "execution_count": 33,
   "id": "36f97da3",
   "metadata": {},
   "outputs": [],
   "source": [
    "import pandas as pd "
   ]
  },
  {
   "cell_type": "code",
   "execution_count": 34,
   "id": "db682b03",
   "metadata": {},
   "outputs": [],
   "source": [
    "df_train = pd.read_csv('../data/processed/train.csv')\n",
    "df_test = pd.read_csv('../data/processed/test.csv')\n"
   ]
  },
  {
   "cell_type": "code",
   "execution_count": null,
   "id": "46840fbd",
   "metadata": {},
   "outputs": [
    {
     "name": "stdout",
     "output_type": "stream",
     "text": [
      "Validation Macro F1 Score: 0.6162\n",
      "\n",
      "              precision    recall  f1-score   support\n",
      "\n",
      "           1       0.59      0.34      0.43      1848\n",
      "           2       0.74      0.85      0.79     15116\n",
      "           3       0.70      0.57      0.63      8059\n",
      "\n",
      "    accuracy                           0.72     25023\n",
      "   macro avg       0.68      0.59      0.62     25023\n",
      "weighted avg       0.72      0.72      0.71     25023\n",
      "\n",
      "Submission saved as submission.csv\n"
     ]
    }
   ],
   "source": [
    "import pandas as pd\n",
    "from sklearn.preprocessing import OrdinalEncoder\n",
    "from sklearn.model_selection import train_test_split\n",
    "from sklearn.ensemble import RandomForestClassifier\n",
    "from sklearn.metrics import f1_score, classification_report\n",
    "\n",
    "\n",
    "# List of categorical columns to encode\n",
    "categorical_cols = [\n",
    "    'land_surface_condition', 'foundation_type', 'roof_type',\n",
    "    'ground_floor_type', 'other_floor_type', 'position',\n",
    "    'plan_configuration', 'legal_ownership_status'\n",
    "]\n",
    "\n",
    "# Initialize OrdinalEncoder with unknown category handling\n",
    "ord_enc = OrdinalEncoder(handle_unknown='use_encoded_value', unknown_value=-1)\n",
    "\n",
    "# Fit encoder on train categorical columns and transform both train and test\n",
    "df_train[categorical_cols] = ord_enc.fit_transform(df_train[categorical_cols])\n",
    "df_test[categorical_cols] = ord_enc.transform(df_test[categorical_cols])\n",
    "\n",
    "# Prepare train features and target (drop extra columns)\n",
    "X_train = df_train.drop(columns=['damage_grade', 'superstructure_sum', 'secondary_use_sum', 'building_id'])\n",
    "y_train = df_train['damage_grade']\n",
    "\n",
    "# Prepare test features (drop building_id)\n",
    "test_ids = df_test['building_id']\n",
    "X_test = df_test.drop(columns=['building_id'])\n",
    "\n",
    "# Align train and test features columns\n",
    "common_cols = X_train.columns.intersection(X_test.columns)\n",
    "X_train = X_train[common_cols]\n",
    "X_test = X_test[common_cols]\n",
    "\n",
    "# Split train into train/validation sets for evaluation\n",
    "X_tr, X_val, y_tr, y_val = train_test_split(\n",
    "    X_train, y_train, test_size=0.2, random_state=42, stratify=y_train\n",
    ")\n",
    "\n",
    "# Train Random Forest classifier with balanced class weights\n",
    "model = RandomForestClassifier(n_estimators=100, random_state=42, class_weight='balanced')\n",
    "model.fit(X_tr, y_tr)\n",
    "\n",
    "# Predict and evaluate on validation set\n",
    "y_val_pred = model.predict(X_val)\n",
    "f1 = f1_score(y_val, y_val_pred, average='macro')\n",
    "print(f\"Validation Macro F1 Score: {f1:.4f}\\n\")\n",
    "print(classification_report(y_val, y_val_pred))\n",
    "\n",
    "# Predict on test set\n",
    "test_preds = model.predict(X_test)\n",
    "\n",
    "# Save submission CSV\n",
    "submission = pd.DataFrame({\n",
    "    'building_id': test_ids,\n",
    "    'damage_grade': test_preds\n",
    "})\n",
    "submission.to_csv('submission.csv', index=False)\n",
    "print(\"Submission saved as submission.csv\")\n"
   ]
  },
  {
   "cell_type": "code",
   "execution_count": null,
   "id": "21cb9583",
   "metadata": {},
   "outputs": [],
   "source": []
  },
  {
   "cell_type": "code",
   "execution_count": null,
   "id": "5b9db675",
   "metadata": {},
   "outputs": [],
   "source": []
  },
  {
   "cell_type": "code",
   "execution_count": null,
   "id": "c82ded75",
   "metadata": {},
   "outputs": [],
   "source": []
  },
  {
   "cell_type": "code",
   "execution_count": null,
   "id": "d56f795c",
   "metadata": {},
   "outputs": [],
   "source": []
  }
 ],
 "metadata": {
  "kernelspec": {
   "display_name": "base",
   "language": "python",
   "name": "python3"
  },
  "language_info": {
   "codemirror_mode": {
    "name": "ipython",
    "version": 3
   },
   "file_extension": ".py",
   "mimetype": "text/x-python",
   "name": "python",
   "nbconvert_exporter": "python",
   "pygments_lexer": "ipython3",
   "version": "3.12.7"
  }
 },
 "nbformat": 4,
 "nbformat_minor": 5
}
